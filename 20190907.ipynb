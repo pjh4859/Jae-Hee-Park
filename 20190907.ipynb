{
  "nbformat": 4,
  "nbformat_minor": 0,
  "metadata": {
    "colab": {
      "name": "20190907.ipynb",
      "version": "0.3.2",
      "provenance": [],
      "collapsed_sections": [],
      "include_colab_link": true
    },
    "kernelspec": {
      "name": "python3",
      "display_name": "Python 3"
    },
    "accelerator": "GPU"
  },
  "cells": [
    {
      "cell_type": "markdown",
      "metadata": {
        "id": "view-in-github",
        "colab_type": "text"
      },
      "source": [
        "<a href=\"https://colab.research.google.com/github/pjh4859/Jae-Hee-Park/blob/master/20190907.ipynb\" target=\"_parent\"><img src=\"https://colab.research.google.com/assets/colab-badge.svg\" alt=\"Open In Colab\"/></a>"
      ]
    },
    {
      "cell_type": "code",
      "metadata": {
        "id": "2JwFzwWfXAh8",
        "colab_type": "code",
        "colab": {
          "base_uri": "https://localhost:8080/",
          "height": 34
        },
        "outputId": "1afaf189-b9eb-4866-c6e4-2870550194e5"
      },
      "source": [
        "import torch\n",
        "import torch.nn as nn\n",
        "import torch.nn.functional as F\n",
        "from torchvision.datasets import MNIST\n",
        "from torchvision.transforms import Compose, ToTensor, Normalize\n",
        "from torch.utils.data import DataLoader\n",
        "from tqdm import tqdm\n",
        "import matplotlib.pyplot as plt\n",
        "\n",
        "class CNN(nn.Module):\n",
        "  def __init__(self):\n",
        "    super(CNN, self).__init__()\n",
        "    self.layer1 = nn.Conv2d(in_channels=1,out_channels=32,kernel_size=(3,3),padding=1) # 1x28x28 -> 32x28x28\n",
        "    # o = (i - k +2p) //2 + 1\n",
        "    self.layer2 = nn.Conv2d(in_channels=32,out_channels=64,kernel_size=(3,3),padding=1,stride=2)# 64x14x14\n",
        "    self.layer3 = nn.Conv2d(in_channels=64,out_channels=128,kernel_size=(3,3),padding=1,stride=2)#128x7x7\n",
        "    \n",
        "    self.global_avg_pooling = nn.AdaptiveAvgPool2d((1,1)) # 128x1x1\n",
        "    self.fc_layer = nn.Linear(128,10) #Bx\n",
        "    \n",
        "  def forward(self,x):\n",
        "    x=F.relu(self.layer1(x))\n",
        "    x=F.relu(self.layer2(x))\n",
        "    x=F.relu(self.layer3(x))\n",
        "    \n",
        "    x=self.global_avg_pooling(x)\n",
        "    x=x.squeeze() #Bx128x1x1 -> Bx128\n",
        "    x=self.fc_layer(x)\n",
        "    return x\n",
        "    \n",
        "transforms = Compose([ToTensor(), # -> [0,1]\n",
        "                     Normalize(mean=[0.5], std=[0.5])]) # -> [-1,1]\n",
        "\n",
        "dataset = MNIST(root='.', download=True, transform=transforms, train=True)\n",
        "\n",
        "data_loader = DataLoader(dataset=dataset, batch_size=64, shuffle=True)\n",
        "\n",
        "model= CNN()\n",
        "\n",
        "criterion = nn.CrossEntropyLoss() #loss function\n",
        "\n",
        "optim = torch.optim.Adam(model.parameters(), lr=0.01)\n",
        "list_loss = list()\n",
        "\n",
        "for epoch in range(10):\n",
        "  for input, label in tqdm(data_loader):\n",
        "    results= model(input)\n",
        "    loss=criterion(results, label)\n",
        "    list_loss.append(loss.item())\n",
        "    \n",
        "    optim.zero_grad()\n",
        "    loss.backward()\n",
        "    optim.step()#여기서 파라미터들의 값이변함   \n",
        "    \n",
        "    \n",
        "  break "
      ],
      "execution_count": 12,
      "outputs": [
        {
          "output_type": "stream",
          "text": [
            "100%|██████████| 938/938 [01:51<00:00,  8.41it/s]\n"
          ],
          "name": "stderr"
        }
      ]
    },
    {
      "cell_type": "code",
      "metadata": {
        "id": "aY6B2VKszAQY",
        "colab_type": "code",
        "colab": {}
      },
      "source": [
        ""
      ],
      "execution_count": 0,
      "outputs": []
    },
    {
      "cell_type": "code",
      "metadata": {
        "id": "PumRLRjHt1PT",
        "colab_type": "code",
        "colab": {
          "base_uri": "https://localhost:8080/",
          "height": 125
        },
        "outputId": "8d6aac36-759b-4c00-aa02-5bf335ff3f25"
      },
      "source": [
        "from google.colab import drive\n",
        "drive.mount('/content/drive')"
      ],
      "execution_count": 1,
      "outputs": [
        {
          "output_type": "stream",
          "text": [
            "Go to this URL in a browser: https://accounts.google.com/o/oauth2/auth?client_id=947318989803-6bn6qk8qdgf4n4g3pfee6491hc0brc4i.apps.googleusercontent.com&redirect_uri=urn%3Aietf%3Awg%3Aoauth%3A2.0%3Aoob&scope=email%20https%3A%2F%2Fwww.googleapis.com%2Fauth%2Fdocs.test%20https%3A%2F%2Fwww.googleapis.com%2Fauth%2Fdrive%20https%3A%2F%2Fwww.googleapis.com%2Fauth%2Fdrive.photos.readonly%20https%3A%2F%2Fwww.googleapis.com%2Fauth%2Fpeopleapi.readonly&response_type=code\n",
            "\n",
            "Enter your authorization code:\n",
            "··········\n",
            "Mounted at /content/drive\n"
          ],
          "name": "stdout"
        }
      ]
    },
    {
      "cell_type": "code",
      "metadata": {
        "id": "189n7tnPtqSi",
        "colab_type": "code",
        "colab": {
          "base_uri": "https://localhost:8080/",
          "height": 269
        },
        "outputId": "675071b3-39a9-4938-9000-6bc0e1e4f493"
      },
      "source": [
        "plt.figure()\n",
        "plt.plot(range(len(list_loss)), list_loss, linestyle='--')\n",
        "plt.show()"
      ],
      "execution_count": 13,
      "outputs": [
        {
          "output_type": "display_data",
          "data": {
            "image/png": "[encoded data removed]",
            "text/plain": [
              "<Figure size 432x288 with 1 Axes>"
            ]
          },
          "metadata": {
            "tags": []
          }
        }
      ]
    }
  ]
}