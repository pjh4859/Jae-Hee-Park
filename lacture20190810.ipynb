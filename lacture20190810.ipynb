{
  "nbformat": 4,
  "nbformat_minor": 0,
  "metadata": {
    "colab": {
      "name": "lacture20190810.ipynb",
      "version": "0.3.2",
      "provenance": [],
      "collapsed_sections": [],
      "include_colab_link": true
    },
    "kernelspec": {
      "name": "python3",
      "display_name": "Python 3"
    },
    "accelerator": "GPU"
  },
  "cells": [
    {
      "cell_type": "markdown",
      "metadata": {
        "id": "view-in-github",
        "colab_type": "text"
      },
      "source": [
        "<a href=\"https://colab.research.google.com/github/pjh4859/Jae-Hee-Park/blob/master/lacture20190810.ipynb\" target=\"_parent\"><img src=\"https://colab.research.google.com/assets/colab-badge.svg\" alt=\"Open In Colab\"/></a>"
      ]
    },
    {
      "cell_type": "code",
      "metadata": {
        "id": "VsoaLe6_Yu2G",
        "colab_type": "code",
        "outputId": "89b49585-7f28-46d0-e286-e030d3f618a3",
        "colab": {
          "base_uri": "https://localhost:8080/",
          "height": 54
        }
      },
      "source": [
        "from google.colab import drive\n",
        "drive.mount('/content/drive')"
      ],
      "execution_count": 0,
      "outputs": [
        {
          "output_type": "stream",
          "text": [
            "Drive already mounted at /content/drive; to attempt to forcibly remount, call drive.mount(\"/content/drive\", force_remount=True).\n"
          ],
          "name": "stdout"
        }
      ]
    },
    {
      "cell_type": "code",
      "metadata": {
        "id": "st9B2uEfYx0K",
        "colab_type": "code",
        "colab": {}
      },
      "source": [
        "import torch\n",
        "import torchvision"
      ],
      "execution_count": 0,
      "outputs": []
    },
    {
      "cell_type": "code",
      "metadata": {
        "id": "s2Au0u3QaODj",
        "colab_type": "code",
        "colab": {}
      },
      "source": [
        "class MLP(torch.nn.Module):\n",
        "  def __init__(self):\n",
        "    super(MLP, self).__init__()\n",
        "    self.layer1=torch.nn.Linear(28*28,256)\n",
        "    self.layer2=torch.nn.Linear(256,128)\n",
        "    self.layer3=torch.nn.Linear(128,10)#10은 클래스의 갯수만큼 (여기서는 0~9 까지 10개니까 10)\n",
        "    \n",
        "  def forward(self, x):\n",
        "    x=self.layer1(x)#output = 256\n",
        "    x=torch.nn.functional.relu(x)#activation\n",
        "#  x=torch.nn.functional.F.relu(self.layer1(x))\n",
        "    x=torch.nn.functional.relu(self.layer2(x))\n",
        "    x=self.layer3(x) # no softmax!\n",
        "    return x"
      ],
      "execution_count": 0,
      "outputs": []
    },
    {
      "cell_type": "code",
      "metadata": {
        "id": "V6vpe8NDkSKA",
        "colab_type": "code",
        "outputId": "3989815f-aa7e-4d53-f921-49a6b21a822d",
        "colab": {
          "base_uri": "https://localhost:8080/",
          "height": 34
        }
      },
      "source": [
        "print (torch.cuda.is_available())"
      ],
      "execution_count": 0,
      "outputs": [
        {
          "output_type": "stream",
          "text": [
            "True\n"
          ],
          "name": "stdout"
        }
      ]
    },
    {
      "cell_type": "code",
      "metadata": {
        "id": "XnM10pikkZrt",
        "colab_type": "code",
        "colab": {}
      },
      "source": [
        "# 데이터 셋을 다운로드함 토치비전에 준비되어 있는 데이터셋\n",
        "dataset= torchvision.datasets.MNIST(root='.',\n",
        "                                   download=True,\n",
        "                                   train=True,\n",
        "                                   transform=torchvision.transforms.ToTensor())"
      ],
      "execution_count": 0,
      "outputs": []
    },
    {
      "cell_type": "code",
      "metadata": {
        "id": "k-3jNDqDmSDY",
        "colab_type": "code",
        "colab": {}
      },
      "source": [
        "# 데이터를 섞어주기도 하고 하는 기능\n",
        "dataloader=torch.utils.data.DataLoader(dataset=dataset,\n",
        "                                       batch_size=64,\n",
        "                                      shuffle=True)\n",
        "model =MLP()\n",
        "# model = model.to(DEVICE)\n",
        "print(model)"
      ],
      "execution_count": 0,
      "outputs": []
    },
    {
      "cell_type": "code",
      "metadata": {
        "id": "aUPx3r0Jor79",
        "colab_type": "code",
        "colab": {}
      },
      "source": [
        "criterion=torch.nn.CrossEntropyLoss() #소프트맥스가 이 함수에 포함되어 있음"
      ],
      "execution_count": 0,
      "outputs": []
    },
    {
      "cell_type": "code",
      "metadata": {
        "id": "iJLFYUuao0Xh",
        "colab_type": "code",
        "colab": {}
      },
      "source": [
        "optim=torch.optim.SGD(params=model.parameters(),lr=0.01)#Stochastic Gradient Descent\n",
        "# w'=w-lr*gradient_value"
      ],
      "execution_count": 0,
      "outputs": []
    },
    {
      "cell_type": "code",
      "metadata": {
        "id": "cE0Be5v99vfs",
        "colab_type": "code",
        "colab": {}
      },
      "source": [
        "from tqdm import trange"
      ],
      "execution_count": 0,
      "outputs": []
    },
    {
      "cell_type": "code",
      "metadata": {
        "id": "pfBZTth4q8iB",
        "colab_type": "code",
        "outputId": "c31e2c71-fa0b-4180-e294-c15dfccce941",
        "colab": {
          "base_uri": "https://localhost:8080/",
          "height": 228
        }
      },
      "source": [
        "list_acc=[]\n",
        "for epoch in trange(10):\n",
        "  for input, label in dataloader:\n",
        "#     print(input.shape)\n",
        "#     print(label.shape)\n",
        "\n",
        "    total_step += 1\n",
        "  \n",
        "    input=input.view(input.shape[0],-1)#-1 = 1*28*28(왜 -1 로 표현되는지는 모르것다)\n",
        "#     print(input.shape)\n",
        "#     print(model)\n",
        "\n",
        "    output=model(input)\n",
        "#     print(output.shape)\n",
        "    loss=criterion(output,label)\n",
        "\n",
        "    optim.zero_grad()# 잘못한거 0로 만드는거 이미 한번 혼났으니\n",
        "    loss.backward()#이번 for 문에서 무엇을 잘못했는지 해주는거\n",
        "    optim.step()#잘못한 걸 이용해서 변경해주는거\n",
        "    \n",
        "    estimation=torch.argmax(output,dim=1)\n",
        "    n_correct_answers=torch.sum(torch.eq(estimation,label))\n",
        "    acc=(float(n_correct_answers)/64)*100\n",
        "#     print(acc)\n",
        "    list_acc.append(acc)\n"
      ],
      "execution_count": 0,
      "outputs": [
        {
          "output_type": "stream",
          "text": [
            "\n",
            "  0%|          | 0/10 [00:00<?, ?it/s]\u001b[A\n",
            " 10%|█         | 1/10 [00:05<00:50,  5.65s/it]\u001b[A\n",
            " 20%|██        | 2/10 [00:11<00:45,  5.66s/it]\u001b[A\n",
            " 30%|███       | 3/10 [00:17<00:39,  5.69s/it]\u001b[A\n",
            " 40%|████      | 4/10 [00:22<00:34,  5.73s/it]\u001b[A\n",
            " 50%|█████     | 5/10 [00:28<00:28,  5.73s/it]\u001b[A\n",
            " 60%|██████    | 6/10 [00:34<00:22,  5.71s/it]\u001b[A\n",
            " 70%|███████   | 7/10 [00:40<00:17,  5.71s/it]\u001b[A\n",
            " 80%|████████  | 8/10 [00:45<00:11,  5.70s/it]\u001b[A\n",
            " 90%|█████████ | 9/10 [00:51<00:05,  5.70s/it]\u001b[A\n",
            "100%|██████████| 10/10 [00:57<00:00,  5.70s/it]\u001b[A\n",
            "\u001b[A"
          ],
          "name": "stderr"
        }
      ]
    },
    {
      "cell_type": "code",
      "metadata": {
        "id": "lb5zTzfmsfBA",
        "colab_type": "code",
        "outputId": "f551485e-4db3-47e4-a745-4b3606ee7698",
        "colab": {
          "base_uri": "https://localhost:8080/",
          "height": 269
        }
      },
      "source": [
        "import matplotlib.pyplot as plt\n",
        "plt.plot(list_acc)\n",
        "plt.show()"
      ],
      "execution_count": 0,
      "outputs": [
        {
          "output_type": "display_data",
          "data": {
            "image/png": "[encoded data removed]",
            "text/plain": [
              "<Figure size 432x288 with 1 Axes>"
            ]
          },
          "metadata": {
            "tags": []
          }
        }
      ]
    },
    {
      "cell_type": "code",
      "metadata": {
        "id": "lwKbUMGL6Xh0",
        "colab_type": "code",
        "colab": {}
      },
      "source": [
        ""
      ],
      "execution_count": 0,
      "outputs": []
    }
  ]
}